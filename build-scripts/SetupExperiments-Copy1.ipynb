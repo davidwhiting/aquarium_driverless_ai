{
 "cells": [
  {
   "cell_type": "markdown",
   "metadata": {},
   "source": [
    "# Training Experiments\n",
    "\n",
    "## Step 1. Set up connection to Driverless AI"
   ]
  },
  {
   "cell_type": "code",
   "execution_count": 1,
   "metadata": {},
   "outputs": [],
   "source": [
    "import h2oai_client\n",
    "import numpy as np\n",
    "import pandas as pd\n",
    "# import h2o\n",
    "import requests\n",
    "import math\n",
    "from h2oai_client import Client, ModelParameters, InterpretParameters"
   ]
  },
  {
   "cell_type": "code",
   "execution_count": 2,
   "metadata": {},
   "outputs": [],
   "source": [
    "address = 'http://54.198.38.207:12345'"
   ]
  },
  {
   "cell_type": "code",
   "execution_count": 3,
   "metadata": {},
   "outputs": [],
   "source": [
    "username = 'training'\n",
    "password = 'training'"
   ]
  },
  {
   "cell_type": "code",
   "execution_count": 4,
   "metadata": {},
   "outputs": [],
   "source": [
    "h2oai = Client(address = address\n",
    "               , username = username\n",
    "               , password = password)"
   ]
  },
  {
   "cell_type": "markdown",
   "metadata": {},
   "source": [
    "# Experiments\n",
    "\n",
    "## 1. Transformed Credit Card Data"
   ]
  },
  {
   "cell_type": "code",
   "execution_count": 5,
   "metadata": {},
   "outputs": [],
   "source": [
    "dataTrain = '/data/Training/CreditCard_transform_train.csv.bin'\n",
    "dataValidate = '/data/Training/CreditCard_transform_validate.csv.bin'\n",
    "dataTest = '/data/Training/CreditCard_transform_test.csv.bin'"
   ]
  },
  {
   "cell_type": "code",
   "execution_count": 9,
   "metadata": {},
   "outputs": [],
   "source": [
    "cc_train = h2oai.create_dataset_sync(dataTrain)\n",
    "cc_valid = h2oai.create_dataset_sync(dataValidate)\n",
    "cc_test  = h2oai.create_dataset_sync(dataTest)"
   ]
  },
  {
   "cell_type": "code",
   "execution_count": 10,
   "metadata": {},
   "outputs": [],
   "source": [
    "target = 'Default'\n",
    "dropped = []\n",
    "knobs = [6, 0, 6]"
   ]
  },
  {
   "cell_type": "code",
   "execution_count": 11,
   "metadata": {},
   "outputs": [],
   "source": [
    "experiment = h2oai.start_experiment_sync(\n",
    "    dataset_key = cc_train.key\n",
    "    , validset_key = cc_valid.key\n",
    "    , testset_key = cc_test.key\n",
    "    , target_col = target\n",
    "    , is_classification = True\n",
    "    , accuracy = knobs[0]\n",
    "    , time = knobs[1]\n",
    "    , interpretability = knobs[2]\n",
    "    , scorer = 'AUC'\n",
    "    , enable_gpus = True\n",
    "    , cols_to_drop = dropped\n",
    ")"
   ]
  },
  {
   "cell_type": "code",
   "execution_count": null,
   "metadata": {},
   "outputs": [],
   "source": []
  }
 ],
 "metadata": {
  "kernelspec": {
   "display_name": "Python 3",
   "language": "python",
   "name": "python3"
  },
  "language_info": {
   "codemirror_mode": {
    "name": "ipython",
    "version": 3
   },
   "file_extension": ".py",
   "mimetype": "text/x-python",
   "name": "python",
   "nbconvert_exporter": "python",
   "pygments_lexer": "ipython3",
   "version": "3.6.9"
  }
 },
 "nbformat": 4,
 "nbformat_minor": 2
}
