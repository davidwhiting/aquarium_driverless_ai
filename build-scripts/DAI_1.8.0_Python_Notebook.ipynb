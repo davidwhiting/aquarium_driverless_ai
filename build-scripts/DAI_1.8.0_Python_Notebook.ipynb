{
 "cells": [
  {
   "cell_type": "markdown",
   "metadata": {},
   "source": [
    "# Training Experiments"
   ]
  },
  {
   "cell_type": "code",
   "execution_count": 1,
   "metadata": {},
   "outputs": [],
   "source": [
    "import h2oai_client\n",
    "import numpy as np\n",
    "import pandas as pd\n",
    "# import h2o\n",
    "import requests\n",
    "import math\n",
    "from h2oai_client import Client, ModelParameters, InterpretParameters"
   ]
  },
  {
   "cell_type": "code",
   "execution_count": 2,
   "metadata": {},
   "outputs": [],
   "source": [
    "ip = 54.164.160.82\n",
    "address = 'http://' + ip + ':12345'\n",
    "username = 'training'\n",
    "password = 'training'\n",
    "\n",
    "h2oai = Client(address = address\n",
    "               , username = username\n",
    "               , password = password)"
   ]
  },
  {
   "cell_type": "markdown",
   "metadata": {},
   "source": [
    "## Boston Housing"
   ]
  },
  {
   "cell_type": "code",
   "execution_count": 7,
   "metadata": {},
   "outputs": [],
   "source": [
    "dataPath = '/data/Training/BostonHousing.csv'\n",
    "basename = 'Housing'\n",
    "target = 'VALUE'\n",
    "ratio = 0.8\n",
    "\n",
    "boston_data = h2oai.create_dataset_sync(dataPath)\n",
    "\n",
    "# Split the data\n",
    "boston_split_data = h2oai.make_dataset_split(\n",
    "    dataset_key = boston_data.key\n",
    "    , output_name1 = basename + \"_train\"\n",
    "    , output_name2 = basename + \"_test\"\n",
    "    , target = target\n",
    "    , fold_col = \"\"\n",
    "    , time_col = \"\"\n",
    "    , ratio = ratio\n",
    "    , seed = 1234\n",
    ")\n",
    "\n",
    "train_key = h2oai.get_dataset_split_job(boston_split_data).entity[0]\n",
    "test_key  = h2oai.get_dataset_split_job(boston_split_data).entity[1]\n",
    "dropped = []\n",
    "\n",
    "# Housing Experiment #1\n",
    "knobs = [7, 2, 8]\n",
    "housing1 = h2oai.start_experiment_sync(\n",
    "      experiment_name = \"Housing\"\n",
    "    , dataset_key = train_key\n",
    "    , testset_key = test_key\n",
    "    , target_col = target\n",
    "    , is_classification = False\n",
    "    , accuracy = knobs[0]\n",
    "    , time = knobs[1]\n",
    "    , interpretability = knobs[2]\n",
    "    , scorer = 'RMSE'\n",
    "    , enable_gpus = True\n",
    "    , cols_to_drop = dropped\n",
    ")\n",
    "\n",
    "# Housing Experiment #2\n",
    "knobs = [4, 2, 8]\n",
    "housing2 = h2oai.start_experiment_sync(\n",
    "      experiment_name = \"Housing Quick\"\n",
    "    , dataset_key = train_key\n",
    "    , testset_key = test_key\n",
    "    , target_col = target\n",
    "    , is_classification = False\n",
    "    , accuracy = knobs[0]\n",
    "    , time = knobs[1]\n",
    "    , interpretability = knobs[2]\n",
    "    , scorer = 'RMSE'\n",
    "    , enable_gpus = True\n",
    "    , cols_to_drop = dropped\n",
    ")"
   ]
  },
  {
   "cell_type": "markdown",
   "metadata": {},
   "source": [
    "## Forensic Glass"
   ]
  },
  {
   "cell_type": "code",
   "execution_count": null,
   "metadata": {},
   "outputs": [],
   "source": []
  },
  {
   "cell_type": "markdown",
   "metadata": {},
   "source": [
    "## Credit Card Default"
   ]
  },
  {
   "cell_type": "code",
   "execution_count": null,
   "metadata": {},
   "outputs": [],
   "source": [
    "# Card Default: 6 4 6\n",
    "# Card Monotonic: 6 4 7\n",
    "# Card Big: 8 6 7\n",
    "# Card GLM: 6 4 7\n",
    "# Card Compliant: 6 4 7"
   ]
  },
  {
   "cell_type": "code",
   "execution_count": null,
   "metadata": {},
   "outputs": [],
   "source": []
  },
  {
   "cell_type": "code",
   "execution_count": null,
   "metadata": {},
   "outputs": [],
   "source": [
    "# let Driverless suggest parameters for experiment\n",
    "params = h2oai.get_experiment_tuning_suggestion(\n",
    "    dataset_key = train_key\n",
    "    , target_col = target\n",
    "    , is_classification = True\n",
    "    , is_time_series = False\n",
    "    , config_overrides = None)\n",
    "\n",
    "dropped = ['name2', 'cabin', 'embarked', 'boat', 'body', 'home.dest']\n",
    "knobs = [8, 2, 8]\n",
    "\n",
    "experiment = h2oai.start_experiment_sync(\n",
    "    dataset_key = train_key\n",
    "    , testset_key = test_key\n",
    "    , target_col = target\n",
    "    , is_classification = True\n",
    "    , accuracy = knobs[0]\n",
    "    , time = knobs[1]\n",
    "    , interpretability = knobs[2]\n",
    "    , scorer = 'AUC'\n",
    "    , enable_gpus = True\n",
    "    , cols_to_drop = dropped\n",
    ")"
   ]
  }
 ],
 "metadata": {
  "kernelspec": {
   "display_name": "Python 3",
   "language": "python",
   "name": "python3"
  },
  "language_info": {
   "codemirror_mode": {
    "name": "ipython",
    "version": 3
   },
   "file_extension": ".py",
   "mimetype": "text/x-python",
   "name": "python",
   "nbconvert_exporter": "python",
   "pygments_lexer": "ipython3",
   "version": "3.6.9"
  }
 },
 "nbformat": 4,
 "nbformat_minor": 2
}
