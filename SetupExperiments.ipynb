{
 "cells": [
  {
   "cell_type": "markdown",
   "metadata": {},
   "source": [
    "# Training Experiments\n",
    "\n",
    "## Step 1. Set up connection to Driverless AI"
   ]
  },
  {
   "cell_type": "code",
   "execution_count": 1,
   "metadata": {},
   "outputs": [],
   "source": [
    "import h2oai_client\n",
    "import numpy as np\n",
    "import pandas as pd\n",
    "# import h2o\n",
    "import requests\n",
    "import math\n",
    "from h2oai_client import Client, ModelParameters, InterpretParameters"
   ]
  },
  {
   "cell_type": "code",
   "execution_count": null,
   "metadata": {},
   "outputs": [],
   "source": [
    "address = 'http://54.85.219.94:12345'"
   ]
  },
  {
   "cell_type": "code",
   "execution_count": 2,
   "metadata": {},
   "outputs": [],
   "source": [
    "username = 'training'\n",
    "password = 'training'\n",
    "\n",
    "h2oai = Client(address = address\n",
    "               , username = username\n",
    "               , password = password)\n",
    "# make sure to use the same user name and password when signing in through the GUI"
   ]
  },
  {
   "cell_type": "markdown",
   "metadata": {},
   "source": [
    "## Step 2. Load data and run experiments\n",
    "\n",
    "### (1) Diabetes Data"
   ]
  },
  {
   "cell_type": "code",
   "execution_count": 19,
   "metadata": {},
   "outputs": [],
   "source": [
    "dataPath = '/data/Training/DiabetesNA.csv'\n",
    "basename = 'Diabetes'\n",
    "target = 'Outcome'\n",
    "ratio = 0.8"
   ]
  },
  {
   "cell_type": "code",
   "execution_count": 4,
   "metadata": {},
   "outputs": [],
   "source": [
    "data = h2oai.create_dataset_sync(dataPath)"
   ]
  },
  {
   "cell_type": "code",
   "execution_count": 17,
   "metadata": {},
   "outputs": [],
   "source": [
    "# Split the data\n",
    "split_data = h2oai.make_dataset_split(\n",
    "    dataset_key = data.key\n",
    "    , output_name1 = basename + \"_train\"\n",
    "    , output_name2 = basename + \"_test\"\n",
    "    , target = target\n",
    "    , fold_col = \"\"\n",
    "    , time_col = \"\"\n",
    "    , ratio = ratio\n",
    ")"
   ]
  },
  {
   "cell_type": "code",
   "execution_count": 35,
   "metadata": {},
   "outputs": [],
   "source": [
    "train_key = h2oai.get_dataset_split_job(split_data).entity[0]\n",
    "test_key  = h2oai.get_dataset_split_job(split_data).entity[1]"
   ]
  },
  {
   "cell_type": "code",
   "execution_count": 36,
   "metadata": {},
   "outputs": [
    {
     "ename": "RemoteError",
     "evalue": "{'code': 0, 'message': \"KeyError: 'dataset.lufudama'\"}",
     "output_type": "error",
     "traceback": [
      "\u001b[0;31m---------------------------------------------------------------------------\u001b[0m",
      "\u001b[0;31mRemoteError\u001b[0m                               Traceback (most recent call last)",
      "\u001b[0;32m<ipython-input-36-bc1161ff2752>\u001b[0m in \u001b[0;36m<module>\u001b[0;34m\u001b[0m\n\u001b[1;32m      5\u001b[0m     \u001b[0;34m,\u001b[0m \u001b[0mis_classification\u001b[0m \u001b[0;34m=\u001b[0m \u001b[0;32mTrue\u001b[0m\u001b[0;34m\u001b[0m\u001b[0;34m\u001b[0m\u001b[0m\n\u001b[1;32m      6\u001b[0m     \u001b[0;34m,\u001b[0m \u001b[0mis_time_series\u001b[0m \u001b[0;34m=\u001b[0m \u001b[0;32mFalse\u001b[0m\u001b[0;34m\u001b[0m\u001b[0;34m\u001b[0m\u001b[0m\n\u001b[0;32m----> 7\u001b[0;31m     , config_overrides = None)\n\u001b[0m",
      "\u001b[0;32m/anaconda3/envs/python3.6/lib/python3.6/site-packages/h2oai_client/protocol.py\u001b[0m in \u001b[0;36mget_experiment_tuning_suggestion\u001b[0;34m(self, dataset_key, target_col, is_classification, is_time_series, config_overrides)\u001b[0m\n\u001b[1;32m   1737\u001b[0m         \"\"\"\n\u001b[1;32m   1738\u001b[0m         \u001b[0mreq_\u001b[0m \u001b[0;34m=\u001b[0m \u001b[0mdict\u001b[0m\u001b[0;34m(\u001b[0m\u001b[0mdataset_key\u001b[0m\u001b[0;34m=\u001b[0m\u001b[0mdataset_key\u001b[0m\u001b[0;34m,\u001b[0m \u001b[0mtarget_col\u001b[0m\u001b[0;34m=\u001b[0m\u001b[0mtarget_col\u001b[0m\u001b[0;34m,\u001b[0m \u001b[0mis_classification\u001b[0m\u001b[0;34m=\u001b[0m\u001b[0mis_classification\u001b[0m\u001b[0;34m,\u001b[0m \u001b[0mis_time_series\u001b[0m\u001b[0;34m=\u001b[0m\u001b[0mis_time_series\u001b[0m\u001b[0;34m,\u001b[0m \u001b[0mconfig_overrides\u001b[0m\u001b[0;34m=\u001b[0m\u001b[0mconfig_overrides\u001b[0m\u001b[0;34m)\u001b[0m\u001b[0;34m\u001b[0m\u001b[0;34m\u001b[0m\u001b[0m\n\u001b[0;32m-> 1739\u001b[0;31m         \u001b[0mres_\u001b[0m \u001b[0;34m=\u001b[0m \u001b[0mself\u001b[0m\u001b[0;34m.\u001b[0m\u001b[0m_request\u001b[0m\u001b[0;34m(\u001b[0m\u001b[0;34m'get_experiment_tuning_suggestion'\u001b[0m\u001b[0;34m,\u001b[0m \u001b[0mreq_\u001b[0m\u001b[0;34m)\u001b[0m\u001b[0;34m\u001b[0m\u001b[0;34m\u001b[0m\u001b[0m\n\u001b[0m\u001b[1;32m   1740\u001b[0m         \u001b[0;32mreturn\u001b[0m \u001b[0mModelParameters\u001b[0m\u001b[0;34m.\u001b[0m\u001b[0mload\u001b[0m\u001b[0;34m(\u001b[0m\u001b[0mres_\u001b[0m\u001b[0;34m)\u001b[0m\u001b[0;34m\u001b[0m\u001b[0;34m\u001b[0m\u001b[0m\n\u001b[1;32m   1741\u001b[0m \u001b[0;34m\u001b[0m\u001b[0m\n",
      "\u001b[0;32m/anaconda3/envs/python3.6/lib/python3.6/site-packages/h2oai_client/protocol.py\u001b[0m in \u001b[0;36m_request\u001b[0;34m(self, method, params)\u001b[0m\n\u001b[1;32m     53\u001b[0m         \u001b[0mresponse\u001b[0m \u001b[0;34m=\u001b[0m \u001b[0mres\u001b[0m\u001b[0;34m.\u001b[0m\u001b[0mjson\u001b[0m\u001b[0;34m(\u001b[0m\u001b[0;34m)\u001b[0m\u001b[0;34m\u001b[0m\u001b[0;34m\u001b[0m\u001b[0m\n\u001b[1;32m     54\u001b[0m         \u001b[0;32mif\u001b[0m \u001b[0;34m\"error\"\u001b[0m \u001b[0;32min\u001b[0m \u001b[0mresponse\u001b[0m\u001b[0;34m:\u001b[0m\u001b[0;34m\u001b[0m\u001b[0;34m\u001b[0m\u001b[0m\n\u001b[0;32m---> 55\u001b[0;31m             \u001b[0;32mraise\u001b[0m \u001b[0mRemoteError\u001b[0m\u001b[0;34m(\u001b[0m\u001b[0mresponse\u001b[0m\u001b[0;34m[\u001b[0m\u001b[0;34m\"error\"\u001b[0m\u001b[0;34m]\u001b[0m\u001b[0;34m)\u001b[0m\u001b[0;34m\u001b[0m\u001b[0;34m\u001b[0m\u001b[0m\n\u001b[0m\u001b[1;32m     56\u001b[0m \u001b[0;34m\u001b[0m\u001b[0m\n\u001b[1;32m     57\u001b[0m         \u001b[0;32mreturn\u001b[0m \u001b[0mresponse\u001b[0m\u001b[0;34m[\u001b[0m\u001b[0;34m\"result\"\u001b[0m\u001b[0;34m]\u001b[0m\u001b[0;34m\u001b[0m\u001b[0;34m\u001b[0m\u001b[0m\n",
      "\u001b[0;31mRemoteError\u001b[0m: {'code': 0, 'message': \"KeyError: 'dataset.lufudama'\"}"
     ]
    }
   ],
   "source": [
    "# let Driverless suggest parameters for experiment\n",
    "params = h2oai.get_experiment_tuning_suggestion(\n",
    "    dataset_key = train_key\n",
    "    , target_col = target\n",
    "    , is_classification = True\n",
    "    , is_time_series = False\n",
    "    , config_overrides = None)"
   ]
  },
  {
   "cell_type": "code",
   "execution_count": null,
   "metadata": {},
   "outputs": [],
   "source": [
    "exp_preview = h2oai.get_experiment_preview_sync(\n",
    "    dataset_key= train.key\n",
    "    , validset_key=''\n",
    "    , classification=True\n",
    "    , dropped_cols = []\n",
    "    , target_col=target\n",
    "    , is_time_series = False\n",
    "    , enable_gpus = True\n",
    "    ,\n",
    "                                                accuracy = 5, time = 5, interpretability = 5,\n",
    "                                                config_overrides = None)\n",
    "exp_preview"
   ]
  },
  {
   "cell_type": "markdown",
   "metadata": {},
   "source": [
    "## (2) Titanic Data\n",
    "## (3) Boston Housing Data\n",
    "## (4) Washington Cannabis Data\n",
    "## (5) Amazon Reviews Data\n",
    "## (6) Credit Card Default Data"
   ]
  },
  {
   "cell_type": "code",
   "execution_count": 5,
   "metadata": {},
   "outputs": [],
   "source": [
    "creditCardPath = '/data/Training/CreditCard.csv'\n",
    "ccdata = h2oai.create_dataset_sync(creditCardPath)"
   ]
  },
  {
   "cell_type": "code",
   "execution_count": 6,
   "metadata": {},
   "outputs": [
    {
     "data": {
      "text/plain": [
       "['ActVsPred',\n",
       " 'Any',\n",
       " 'AppVersion',\n",
       " 'AutoDLInit',\n",
       " 'AutoDLProgress',\n",
       " 'AutoDLResult',\n",
       " 'AutoReport',\n",
       " 'AutoReportJob',\n",
       " 'AutoVizBarcharts',\n",
       " 'AutoVizBiplot',\n",
       " 'AutoVizBoxplot',\n",
       " 'AutoVizHistogram',\n",
       " 'AutoVizJob',\n",
       " 'AutoVizScatterplot',\n",
       " 'AutoVizSummary',\n",
       " 'AwsCredentials',\n",
       " 'AwsLambdaParameters',\n",
       " 'BarchartJob',\n",
       " 'BoxplotJob',\n",
       " 'Client',\n",
       " 'ConfigItem',\n",
       " 'ConfusionMatrix',\n",
       " 'CreateDeploymentJob',\n",
       " 'Dataset',\n",
       " 'DatasetColumn',\n",
       " 'DatasetColumnStats',\n",
       " 'DatasetJob',\n",
       " 'DatasetNonNumericColumnStats',\n",
       " 'DatasetNumericColumnStats',\n",
       " 'DatasetSplitJob',\n",
       " 'DatasetSummary',\n",
       " 'Deployment',\n",
       " 'DestroyDeploymentJob',\n",
       " 'DiskStats',\n",
       " 'DotplotJob',\n",
       " 'EchoStatus',\n",
       " 'ExemplarRowsResponse',\n",
       " 'ExperimentPreviewJob',\n",
       " 'ExperimentPreviewResponse',\n",
       " 'ExperimentScore',\n",
       " 'ExperimentsStats',\n",
       " 'ExportEntityJob',\n",
       " 'FileSearchResult',\n",
       " 'FileSearchResults',\n",
       " 'GPUStats',\n",
       " 'GainLift',\n",
       " 'H2OAutoViz',\n",
       " 'H2OBarchart',\n",
       " 'H2OBoxplot',\n",
       " 'H2OBoxplotEnvelope',\n",
       " 'H2ODotplot',\n",
       " 'H2OHeatMap',\n",
       " 'H2ONetwork',\n",
       " 'H2OOutliers',\n",
       " 'H2OParallelCoordinatesPlot',\n",
       " 'H2OPlot',\n",
       " 'H2OProgress',\n",
       " 'H2ORegression',\n",
       " 'H2OScale',\n",
       " 'H2OVisAggregation',\n",
       " 'H2OVisStats',\n",
       " 'HeatMapJob',\n",
       " 'Histogram',\n",
       " 'HistogramJob',\n",
       " 'ImportEntityJob',\n",
       " 'ImportModelJob',\n",
       " 'InterpretParameters',\n",
       " 'InterpretSummary',\n",
       " 'InterpretTimeSeries',\n",
       " 'InterpretTimeSeriesJob',\n",
       " 'InterpretTimeSeriesParameters',\n",
       " 'InterpretTimeSeriesSummary',\n",
       " 'Interpretation',\n",
       " 'InterpretationJob',\n",
       " 'JobStatus',\n",
       " 'License',\n",
       " 'List',\n",
       " 'ListDatasetsRequest',\n",
       " 'ListDatasetsResponse',\n",
       " 'MLIProgress',\n",
       " 'Model',\n",
       " 'ModelDiagnostic',\n",
       " 'ModelDiagnosticJob',\n",
       " 'ModelJob',\n",
       " 'ModelParameters',\n",
       " 'ModelScore',\n",
       " 'ModelSummary',\n",
       " 'ModelSummaryWithDiagnostics',\n",
       " 'ModelTraceEvents',\n",
       " 'ModelTrainingSchema',\n",
       " 'MojoPipeline',\n",
       " 'MojoPipelineJob',\n",
       " 'MultinodeStats',\n",
       " 'NetworkJob',\n",
       " 'NoGroupVariable',\n",
       " 'OutliersJob',\n",
       " 'ParallelCoordinatesPlotJob',\n",
       " 'PdIceInterpretationJob',\n",
       " 'Permission',\n",
       " 'Prediction',\n",
       " 'PredictionJob',\n",
       " 'Project',\n",
       " 'ROC',\n",
       " 'RemoteError',\n",
       " 'RequestError',\n",
       " 'ResidualHistogram',\n",
       " 'ScatterPlotJob',\n",
       " 'Scorer',\n",
       " 'ScorerEndpoint',\n",
       " 'ScoresTable',\n",
       " 'ScoringPipeline',\n",
       " 'ScoringPipelineJob',\n",
       " 'StorageUser',\n",
       " 'SystemStats',\n",
       " 'TimeSeriesSplitSuggestion',\n",
       " 'TimeSeriesSplitSuggestionJob',\n",
       " 'TraceEvent',\n",
       " 'TraceProgress',\n",
       " 'TrainingColumn',\n",
       " 'Transformation',\n",
       " 'TransformationJob',\n",
       " 'UserInfo',\n",
       " 'VarImpTable',\n",
       " 'VisStatsJob',\n",
       " '__about__',\n",
       " '__all__',\n",
       " '__build_info__',\n",
       " '__builtins__',\n",
       " '__cached__',\n",
       " '__doc__',\n",
       " '__file__',\n",
       " '__loader__',\n",
       " '__name__',\n",
       " '__package__',\n",
       " '__path__',\n",
       " '__spec__',\n",
       " '__version__',\n",
       " 'messages',\n",
       " 'protocol']"
      ]
     },
     "execution_count": 6,
     "metadata": {},
     "output_type": "execute_result"
    }
   ],
   "source": [
    "dir(h2oai_client)"
   ]
  },
  {
   "cell_type": "code",
   "execution_count": 29,
   "metadata": {},
   "outputs": [
    {
     "data": {
      "text/plain": [
       "('self',\n",
       " 'dataset_key',\n",
       " 'target_col',\n",
       " 'is_classification',\n",
       " 'is_time_series',\n",
       " 'config_overrides',\n",
       " 'req_',\n",
       " 'res_')"
      ]
     },
     "execution_count": 29,
     "metadata": {},
     "output_type": "execute_result"
    }
   ],
   "source": [
    "## Get input parameters for a function\n",
    "# h2oai.FUNCTION_OF_INTEREST.__code__.co_varnames\n",
    "h2oai.get_experiment_tuning_suggestion.__code__.co_varnames"
   ]
  },
  {
   "cell_type": "code",
   "execution_count": 27,
   "metadata": {},
   "outputs": [
    {
     "ename": "AttributeError",
     "evalue": "'Client' object has no attribute 'train_key'",
     "output_type": "error",
     "traceback": [
      "\u001b[0;31m---------------------------------------------------------------------------\u001b[0m",
      "\u001b[0;31mAttributeError\u001b[0m                            Traceback (most recent call last)",
      "\u001b[0;32m<ipython-input-27-9ef91bac8695>\u001b[0m in \u001b[0;36m<module>\u001b[0;34m\u001b[0m\n\u001b[1;32m      1\u001b[0m \u001b[0;31m## See all information about an object\u001b[0m\u001b[0;34m\u001b[0m\u001b[0;34m\u001b[0m\u001b[0;34m\u001b[0m\u001b[0m\n\u001b[1;32m      2\u001b[0m \u001b[0;31m# h2oai.OBJECT.dump()\u001b[0m\u001b[0;34m\u001b[0m\u001b[0;34m\u001b[0m\u001b[0;34m\u001b[0m\u001b[0m\n\u001b[0;32m----> 3\u001b[0;31m \u001b[0mh2oai\u001b[0m\u001b[0;34m.\u001b[0m\u001b[0mtrain_key\u001b[0m\u001b[0;34m.\u001b[0m\u001b[0mdump\u001b[0m\u001b[0;34m(\u001b[0m\u001b[0;34m)\u001b[0m\u001b[0;34m\u001b[0m\u001b[0;34m\u001b[0m\u001b[0m\n\u001b[0m",
      "\u001b[0;31mAttributeError\u001b[0m: 'Client' object has no attribute 'train_key'"
     ]
    }
   ],
   "source": [
    "## See all information about an object\n",
    "# h2oai.OBJECT.dump()\n",
    "h2oai.train_key.dump()"
   ]
  },
  {
   "cell_type": "code",
   "execution_count": 21,
   "metadata": {},
   "outputs": [
    {
     "name": "stdout",
     "output_type": "stream",
     "text": [
      "['Cannabis_test', 'Cannabis_train', 'WA_CannabisDailySales.csv', 'Housing_test', 'Housing_train', 'BostonHousing.csv', 'Titanic_test', 'Titanic_train', 'Titanic.csv']\n",
      "['gumilumu', 'tevemome', 'vugiwife', 'vurogesa', 'navelemu', 'lohibigi', 'dibatena', 'hewaduho', 'wodipume']\n"
     ]
    }
   ],
   "source": [
    "all_data_sets = h2oai.list_datasets(0,100)\n",
    "\n",
    "print(list(map(lambda x: x.name, all_data_sets)))\n",
    "print(list(map(lambda x: x.key, all_data_sets)))"
   ]
  }
 ],
 "metadata": {
  "kernelspec": {
   "display_name": "Python 3",
   "language": "python",
   "name": "python3"
  },
  "language_info": {
   "codemirror_mode": {
    "name": "ipython",
    "version": 3
   },
   "file_extension": ".py",
   "mimetype": "text/x-python",
   "name": "python",
   "nbconvert_exporter": "python",
   "pygments_lexer": "ipython3",
   "version": "3.6.8"
  }
 },
 "nbformat": 4,
 "nbformat_minor": 2
}
